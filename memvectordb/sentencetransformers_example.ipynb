{
 "cells": [
  {
   "cell_type": "code",
   "execution_count": 1,
   "metadata": {},
   "outputs": [
    {
     "name": "stdout",
     "output_type": "stream",
     "text": [
      "\u001b[33m  DEPRECATION: tdqm is being installed using the legacy 'setup.py install' method, because it does not have a 'pyproject.toml' and the 'wheel' package is not installed. pip 23.1 will enforce this behaviour change. A possible replacement is to enable the '--use-pep517' option. Discussion can be found at https://github.com/pypa/pip/issues/8559\u001b[0m\u001b[33m\n",
      "\u001b[0m\n",
      "\u001b[1m[\u001b[0m\u001b[34;49mnotice\u001b[0m\u001b[1;39;49m]\u001b[0m\u001b[39;49m A new release of pip available: \u001b[0m\u001b[31;49m22.3.1\u001b[0m\u001b[39;49m -> \u001b[0m\u001b[32;49m24.0\u001b[0m\n",
      "\u001b[1m[\u001b[0m\u001b[34;49mnotice\u001b[0m\u001b[1;39;49m]\u001b[0m\u001b[39;49m To update, run: \u001b[0m\u001b[32;49mpip install --upgrade pip\u001b[0m\n"
     ]
    }
   ],
   "source": [
    "!pip install  -q langchain_community pypdf langchain-text-splitters tdqm  sentence_transformers memvectordb-python"
   ]
  },
  {
   "cell_type": "code",
   "execution_count": null,
   "metadata": {},
   "outputs": [],
   "source": [
    "from sentence_transformers import SentenceTransformer, util\n",
    "from memvectordb.collection import MemVectorDB\n",
    "model = SentenceTransformer('multi-qa-MiniLM-L6-cos-v1')\n",
    "\n",
    "collection_name = \"collection_1\"\n",
    "dimension = 3\n",
    "distance = \"cosine\"\n",
    "client = MemVectorDB(base_url = \"base-url\")\n",
    "collection = client.create_collection(collection_name, dimension, distance)\n",
    "collection"
   ]
  },
  {
   "cell_type": "code",
   "execution_count": null,
   "metadata": {},
   "outputs": [],
   "source": [
    "from langchain_text_splitters import RecursiveCharacterTextSplitter\n",
    "from uuid import uuid4\n",
    "from tqdm.auto import tqdm\n",
    "\n",
    "\n",
    "def process_document(document , batch_size: int, chunk_size: int):\n",
    "    texts = []\n",
    "    metadatas = []\n",
    "    text_splitter = RecursiveCharacterTextSplitter(\n",
    "        chunk_size=chunk_size,\n",
    "        chunk_overlap=20,\n",
    "        length_function=len,\n",
    "        separators=[\"\\n\\n\", \"\\n\", \" \", \"\"]\n",
    "    )\n",
    "\n",
    "    for i, record in enumerate(tqdm(document)):\n",
    "        metadata = {\n",
    "            'content': record.page_content\n",
    "        }\n",
    "        record_texts = text_splitter.split_text(record.page_content)\n",
    "        record_metadatas = [{\n",
    "            \"chunk\": str(j), \"text\": text, **metadata \n",
    "        } for j, text in enumerate(record_texts)]\n",
    "        texts.extend(record_texts)\n",
    "        metadatas.extend(record_metadatas)\n",
    "\n",
    "        if len(texts) >= batch_size:\n",
    "            vector_ids = [str(uuid4()) for _ in range(len(texts))]\n",
    "            embed = model.encode(texts)\n",
    "            vectors = embed.tolist()\n",
    "\n",
    "            for idx, vector_id, vector, metadata in zip(range(len(vector_ids)), vector_ids, vectors, metadatas):\n",
    "                client.batch_insert_embeddings(collection_name, vector_id, vector, metadata)\n",
    "            texts = []\n",
    "            metadatas = []"
   ]
  },
  {
   "cell_type": "code",
   "execution_count": null,
   "metadata": {},
   "outputs": [],
   "source": [
    "from langchain_community.document_loaders import PyPDFLoader\n",
    "from pathlib import Path\n",
    "\n",
    "\n",
    "def load_doc(file_url):\n",
    "    pages = []\n",
    "    file_path = Path(file_url)\n",
    "\n",
    "    file_extension = file_path.suffix\n",
    "    if file_extension == \".pdf\":\n",
    "        loader = PyPDFLoader(file_url)\n",
    "        pages = loader.load_and_split()\n",
    "    return pages\n",
    "\n",
    "doc = load_doc(\"https://arxiv.org/pdf/1706.03762.pdf\")"
   ]
  },
  {
   "cell_type": "code",
   "execution_count": null,
   "metadata": {},
   "outputs": [],
   "source": [
    "batch_size = 30\n",
    "chunk_size = 256\n",
    "process_document(doc, batch_size, chunk_size )"
   ]
  },
  {
   "cell_type": "code",
   "execution_count": null,
   "metadata": {},
   "outputs": [],
   "source": [
    "query = \"what is the attention mechanism?\"\n",
    "query_vector = model.encode(query)\n",
    "query_vector = query_vector.tolist()\n",
    "result = client.query(k = 1, collection_name = collection_name, query_vector = query_vector)\n",
    "result"
   ]
  }
 ],
 "metadata": {
  "kernelspec": {
   "display_name": "venv",
   "language": "python",
   "name": "python3"
  },
  "language_info": {
   "codemirror_mode": {
    "name": "ipython",
    "version": 3
   },
   "file_extension": ".py",
   "mimetype": "text/x-python",
   "name": "python",
   "nbconvert_exporter": "python",
   "pygments_lexer": "ipython3",
   "version": "3.10.9"
  },
  "orig_nbformat": 4
 },
 "nbformat": 4,
 "nbformat_minor": 2
}
